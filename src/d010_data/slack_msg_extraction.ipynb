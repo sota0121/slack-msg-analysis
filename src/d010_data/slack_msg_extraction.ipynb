{
 "cells": [
  {
   "cell_type": "markdown",
   "metadata": {},
   "source": [
    "# slackapi操作クラスを使って生データを抽出する"
   ]
  },
  {
   "cell_type": "code",
   "execution_count": 1,
   "metadata": {},
   "outputs": [],
   "source": [
    "import sys\n",
    "import json\n",
    "sys.path.append('../../src')\n",
    "from d000_utils import slack_app as sa"
   ]
  },
  {
   "cell_type": "code",
   "execution_count": 2,
   "metadata": {},
   "outputs": [
    {
     "name": "stdout",
     "output_type": "stream",
     "text": [
      "load credential.json ...\n",
      "start slack app ...\n"
     ]
    },
    {
     "name": "stderr",
     "output_type": "stream",
     "text": [
      "[loading...]: 100%|██████████| 65/65 [00:35<00:00,  1.81it/s]\n"
     ]
    }
   ],
   "source": [
    "def main():\n",
    "    # -------------------------------------\n",
    "    # load api token\n",
    "    # -------------------------------------\n",
    "    credentials_root = '../../conf/local/'\n",
    "    credential_fpath = credentials_root + 'credentials.json'\n",
    "    print('load credential.json ...')\n",
    "    with open(credential_fpath, 'r') as f:\n",
    "        credentials = json.load(f)\n",
    "    # -------------------------------------\n",
    "    # start slack app\n",
    "    # -------------------------------------    \n",
    "    print('start slack app ...')\n",
    "    app = sa.SlackApp(\n",
    "        credentials['channel_api_key'],\n",
    "        credentials['user_api_key']\n",
    "        )\n",
    "    outdir = '../../data/010_raw'\n",
    "    # -------------------------------------\n",
    "    # get channels info\n",
    "    # -------------------------------------\n",
    "    app.load_save_channel_info(outdir)\n",
    "    # -------------------------------------\n",
    "    # get user info\n",
    "    # -------------------------------------\n",
    "    app.load_save_user_info(outdir)\n",
    "    # -------------------------------------\n",
    "    # get msg info\n",
    "    # -------------------------------------\n",
    "    app.load_save_messages_info(outdir)\n",
    "\n",
    "\n",
    "if __name__ == \"__main__\":\n",
    "    main()\n"
   ]
  },
  {
   "cell_type": "code",
   "execution_count": null,
   "metadata": {},
   "outputs": [],
   "source": []
  }
 ],
 "metadata": {
  "kernelspec": {
   "display_name": "Python 3",
   "language": "python",
   "name": "python3"
  },
  "language_info": {
   "codemirror_mode": {
    "name": "ipython",
    "version": 3
   },
   "file_extension": ".py",
   "mimetype": "text/x-python",
   "name": "python",
   "nbconvert_exporter": "python",
   "pygments_lexer": "ipython3",
   "version": "3.7.5"
  }
 },
 "nbformat": 4,
 "nbformat_minor": 4
}
