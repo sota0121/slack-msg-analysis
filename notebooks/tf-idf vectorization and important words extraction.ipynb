{
 "cells": [
  {
   "cell_type": "code",
   "execution_count": 2,
   "metadata": {},
   "outputs": [],
   "source": [
    "import numpy as np\n",
    "from sklearn.feature_extraction.text import TfidfVectorizer\n",
    "from sklearn.feature_extraction.text import CountVectorizer\n",
    "from sklearn.svm import LinearSVC\n",
    "from sklearn.datasets import fetch_20newsgroups"
   ]
  },
  {
   "cell_type": "code",
   "execution_count": 3,
   "metadata": {},
   "outputs": [],
   "source": [
    "categories = ['alt.atheism', 'soc.religion.christian']\n",
    "remove = ('headers', 'footers', 'quotes')\n",
    "twenty_train = fetch_20newsgroups(subset='train',\n",
    "                                 remove=remove,\n",
    "                                 categories=categories)\n",
    "twenty_test = fetch_20newsgroups(subset='test',\n",
    "                                 remove=remove,\n",
    "                                 categories=categories)"
   ]
  },
  {
   "cell_type": "code",
   "execution_count": 4,
   "metadata": {},
   "outputs": [],
   "source": [
    "tf_vec = TfidfVectorizer()\n",
    "X_train_tfidf = tf_vec.fit_transform(twenty_train.data)\n",
    "X_test_tfidf = tf_vec.transform(twenty_test.data)"
   ]
  },
  {
   "cell_type": "code",
   "execution_count": 5,
   "metadata": {},
   "outputs": [
    {
     "data": {
      "text/plain": [
       "0.8089260808926081"
      ]
     },
     "execution_count": 5,
     "metadata": {},
     "output_type": "execute_result"
    }
   ],
   "source": [
    "model = LinearSVC()\n",
    "# fitting\n",
    "model.fit(X_train_tfidf, twenty_train.target)\n",
    "# predict test labels\n",
    "predicted = model.predict(X_test_tfidf)\n",
    "# \n",
    "np.mean(predicted == twenty_test.target)"
   ]
  },
  {
   "cell_type": "code",
   "execution_count": 6,
   "metadata": {},
   "outputs": [
    {
     "data": {
      "text/plain": [
       "array([0.02829614, 0.02343459, 0.01819597, ..., 0.08984162, 0.11221961,\n",
       "       0.11370739])"
      ]
     },
     "execution_count": 6,
     "metadata": {},
     "output_type": "execute_result"
    }
   ],
   "source": [
    "X_train_tfidf.data"
   ]
  },
  {
   "cell_type": "code",
   "execution_count": 7,
   "metadata": {},
   "outputs": [
    {
     "name": "stdout",
     "output_type": "stream",
     "text": [
      "  (0, 6)\t1\n",
      "  (0, 1)\t2\n",
      "  (0, 0)\t2\n",
      "  (0, 3)\t1\n",
      "  (0, 2)\t2\n",
      "  (0, 7)\t1\n",
      "  (1, 6)\t1\n",
      "  (1, 1)\t2\n",
      "  (1, 0)\t2\n",
      "  (1, 2)\t2\n",
      "  (1, 7)\t1\n",
      "  (1, 4)\t1\n",
      "  (1, 5)\t1\n"
     ]
    }
   ],
   "source": [
    "corpus = [\n",
    "    '無料 ごはん おかず ごはん おかず ディナー クーポン クーポン 食事', \n",
    "    '無料 ごはん おかず ごはん おかず ランチ  クーポン クーポン 食事 昼飯',\n",
    "    '']\n",
    "# Bag of Wordsを計算\n",
    "count_vectorizer = CountVectorizer(token_pattern=u'(?u)\\\\b\\\\w+\\\\b')\n",
    "bow_vec = count_vectorizer.fit_transform(corpus)\n",
    "# Dictionary of Key方式と言われる疎行列形式のデータ構造っぽい\n",
    "# 行、列のタプルでkeyを、その値に数値を入れる\n",
    "# (0, 1) 3 >> 0行1列の値は3である。みたいな書き方\n",
    "print(bow_vec)"
   ]
  },
  {
   "cell_type": "code",
   "execution_count": 8,
   "metadata": {},
   "outputs": [
    {
     "data": {
      "text/plain": [
       "array([[2, 2, 2, 1, 0, 0, 1, 1],\n",
       "       [2, 2, 2, 0, 1, 1, 1, 1],\n",
       "       [0, 0, 0, 0, 0, 0, 0, 0]])"
      ]
     },
     "execution_count": 8,
     "metadata": {},
     "output_type": "execute_result"
    }
   ],
   "source": [
    "# 行：文書に対応\n",
    "# 列：カウント対象の単語に対応\n",
    "bow_vec.toarray()"
   ]
  },
  {
   "cell_type": "code",
   "execution_count": 9,
   "metadata": {},
   "outputs": [
    {
     "data": {
      "text/plain": [
       "['おかず', 'ごはん', 'クーポン', 'ディナー', 'ランチ', '昼飯', '無料', '食事']"
      ]
     },
     "execution_count": 9,
     "metadata": {},
     "output_type": "execute_result"
    }
   ],
   "source": [
    "# 列、つまりカウント対象の単語を見たい場合は\n",
    "count_vectorizer.get_feature_names()"
   ]
  },
  {
   "cell_type": "code",
   "execution_count": 10,
   "metadata": {},
   "outputs": [],
   "source": [
    "# 次は同じようなことをtf-idfでやる"
   ]
  },
  {
   "cell_type": "code",
   "execution_count": 11,
   "metadata": {},
   "outputs": [
    {
     "name": "stdout",
     "output_type": "stream",
     "text": [
      "  (0, 7)\t0.252145197440413\n",
      "  (0, 2)\t0.504290394880826\n",
      "  (0, 3)\t0.3315406335704443\n",
      "  (0, 0)\t0.504290394880826\n",
      "  (0, 1)\t0.504290394880826\n",
      "  (0, 6)\t0.252145197440413\n",
      "  (1, 5)\t0.3146958984507801\n",
      "  (1, 4)\t0.3146958984507801\n",
      "  (1, 7)\t0.23933434220122643\n",
      "  (1, 2)\t0.47866868440245286\n",
      "  (1, 0)\t0.47866868440245286\n",
      "  (1, 1)\t0.47866868440245286\n",
      "  (1, 6)\t0.23933434220122643\n"
     ]
    }
   ],
   "source": [
    "# token pattern についてはこことか。要は1文字のやつを逃したくない。英語と違って意味があるから。\n",
    "# https://otknoy.hatenablog.com/entry/2015/10/11/200650\n",
    "tfidf_vectorizer = TfidfVectorizer(token_pattern=u'(?u)\\\\b\\\\w+\\\\b')\n",
    "bow_vec = tfidf_vectorizer.fit_transform(corpus)\n",
    "print(bow_vec)"
   ]
  },
  {
   "cell_type": "code",
   "execution_count": 12,
   "metadata": {},
   "outputs": [
    {
     "data": {
      "text/plain": [
       "array([[0.50429039, 0.50429039, 0.50429039, 0.33154063, 0.        ,\n",
       "        0.        , 0.2521452 , 0.2521452 ],\n",
       "       [0.47866868, 0.47866868, 0.47866868, 0.        , 0.3146959 ,\n",
       "        0.3146959 , 0.23933434, 0.23933434],\n",
       "       [0.        , 0.        , 0.        , 0.        , 0.        ,\n",
       "        0.        , 0.        , 0.        ]])"
      ]
     },
     "execution_count": 12,
     "metadata": {},
     "output_type": "execute_result"
    }
   ],
   "source": [
    "bow_vec.toarray()"
   ]
  },
  {
   "cell_type": "code",
   "execution_count": 13,
   "metadata": {},
   "outputs": [
    {
     "data": {
      "text/plain": [
       "['おかず', 'ごはん', 'クーポン', 'ディナー', 'ランチ', '昼飯', '無料', '食事']"
      ]
     },
     "execution_count": 13,
     "metadata": {},
     "output_type": "execute_result"
    }
   ],
   "source": [
    "tfidf_vectorizer.get_feature_names()"
   ]
  },
  {
   "cell_type": "code",
   "execution_count": 14,
   "metadata": {},
   "outputs": [
    {
     "data": {
      "text/plain": [
       "{'analyzer': 'word',\n",
       " 'binary': False,\n",
       " 'decode_error': 'strict',\n",
       " 'dtype': numpy.float64,\n",
       " 'encoding': 'utf-8',\n",
       " 'input': 'content',\n",
       " 'lowercase': True,\n",
       " 'max_df': 1.0,\n",
       " 'max_features': None,\n",
       " 'min_df': 1,\n",
       " 'ngram_range': (1, 1),\n",
       " 'norm': 'l2',\n",
       " 'preprocessor': None,\n",
       " 'smooth_idf': True,\n",
       " 'stop_words': None,\n",
       " 'strip_accents': None,\n",
       " 'sublinear_tf': False,\n",
       " 'token_pattern': '(?u)\\\\b\\\\w+\\\\b',\n",
       " 'tokenizer': None,\n",
       " 'use_idf': True,\n",
       " 'vocabulary': None}"
      ]
     },
     "execution_count": 14,
     "metadata": {},
     "output_type": "execute_result"
    }
   ],
   "source": [
    "tfidf_vectorizer.get_params()"
   ]
  },
  {
   "cell_type": "code",
   "execution_count": 16,
   "metadata": {},
   "outputs": [
    {
     "data": {
      "text/html": [
       "<div>\n",
       "<style scoped>\n",
       "    .dataframe tbody tr th:only-of-type {\n",
       "        vertical-align: middle;\n",
       "    }\n",
       "\n",
       "    .dataframe tbody tr th {\n",
       "        vertical-align: top;\n",
       "    }\n",
       "\n",
       "    .dataframe thead th {\n",
       "        text-align: right;\n",
       "    }\n",
       "</style>\n",
       "<table border=\"1\" class=\"dataframe\">\n",
       "  <thead>\n",
       "    <tr style=\"text-align: right;\">\n",
       "      <th></th>\n",
       "      <th>A</th>\n",
       "      <th>B</th>\n",
       "    </tr>\n",
       "  </thead>\n",
       "  <tbody>\n",
       "    <tr>\n",
       "      <th>0</th>\n",
       "      <td>0</td>\n",
       "      <td>2</td>\n",
       "    </tr>\n",
       "    <tr>\n",
       "      <th>1</th>\n",
       "      <td>1</td>\n",
       "      <td>3</td>\n",
       "    </tr>\n",
       "    <tr>\n",
       "      <th>2</th>\n",
       "      <td>2</td>\n",
       "      <td>4</td>\n",
       "    </tr>\n",
       "  </tbody>\n",
       "</table>\n",
       "</div>"
      ],
      "text/plain": [
       "   A  B\n",
       "0  0  2\n",
       "1  1  3\n",
       "2  2  4"
      ]
     },
     "execution_count": 16,
     "metadata": {},
     "output_type": "execute_result"
    }
   ],
   "source": [
    "import pandas as pd\n",
    "df = pd.DataFrame({'A': [0, 1, 2], 'B': [2, 3, 4]})\n",
    "df"
   ]
  },
  {
   "cell_type": "code",
   "execution_count": 17,
   "metadata": {},
   "outputs": [
    {
     "data": {
      "text/plain": [
       "{'A': {0: 0, 1: 1, 2: 2}, 'B': {0: 2, 1: 3, 2: 4}}"
      ]
     },
     "execution_count": 17,
     "metadata": {},
     "output_type": "execute_result"
    }
   ],
   "source": [
    "d = df.to_dict(orient='dict')\n",
    "d"
   ]
  },
  {
   "cell_type": "code",
   "execution_count": 19,
   "metadata": {},
   "outputs": [
    {
     "data": {
      "text/plain": [
       "{'A': [0, 1, 2], 'B': [2, 3, 4]}"
      ]
     },
     "execution_count": 19,
     "metadata": {},
     "output_type": "execute_result"
    }
   ],
   "source": [
    "l = df.to_dict(orient='list')\n",
    "l"
   ]
  },
  {
   "cell_type": "code",
   "execution_count": 20,
   "metadata": {},
   "outputs": [
    {
     "data": {
      "text/plain": [
       "{'A': 0    0\n",
       " 1    1\n",
       " 2    2\n",
       " Name: A, dtype: int64,\n",
       " 'B': 0    2\n",
       " 1    3\n",
       " 2    4\n",
       " Name: B, dtype: int64}"
      ]
     },
     "execution_count": 20,
     "metadata": {},
     "output_type": "execute_result"
    }
   ],
   "source": [
    "s = df.to_dict(orient='series')\n",
    "s"
   ]
  },
  {
   "cell_type": "code",
   "execution_count": 21,
   "metadata": {},
   "outputs": [
    {
     "data": {
      "text/html": [
       "<div>\n",
       "<style scoped>\n",
       "    .dataframe tbody tr th:only-of-type {\n",
       "        vertical-align: middle;\n",
       "    }\n",
       "\n",
       "    .dataframe tbody tr th {\n",
       "        vertical-align: top;\n",
       "    }\n",
       "\n",
       "    .dataframe thead th {\n",
       "        text-align: right;\n",
       "    }\n",
       "</style>\n",
       "<table border=\"1\" class=\"dataframe\">\n",
       "  <thead>\n",
       "    <tr style=\"text-align: right;\">\n",
       "      <th></th>\n",
       "      <th>uid</th>\n",
       "      <th>uname</th>\n",
       "    </tr>\n",
       "  </thead>\n",
       "  <tbody>\n",
       "    <tr>\n",
       "      <th>0</th>\n",
       "      <td>USLACKBOT</td>\n",
       "      <td>Slackbot</td>\n",
       "    </tr>\n",
       "    <tr>\n",
       "      <th>1</th>\n",
       "      <td>UJKFAPBCJ</td>\n",
       "      <td>岡村龍弥</td>\n",
       "    </tr>\n",
       "    <tr>\n",
       "      <th>2</th>\n",
       "      <td>UJRAL005U</td>\n",
       "      <td>村上 智之</td>\n",
       "    </tr>\n",
       "    <tr>\n",
       "      <th>3</th>\n",
       "      <td>UJRDMQSAD</td>\n",
       "      <td>勝又健太 kenta.katsumata</td>\n",
       "    </tr>\n",
       "    <tr>\n",
       "      <th>4</th>\n",
       "      <td>UKEMYD9R8</td>\n",
       "      <td>tetsuroito</td>\n",
       "    </tr>\n",
       "    <tr>\n",
       "      <th>...</th>\n",
       "      <td>...</td>\n",
       "      <td>...</td>\n",
       "    </tr>\n",
       "    <tr>\n",
       "      <th>159</th>\n",
       "      <td>UV1GRG3UZ</td>\n",
       "      <td>Kazuhii</td>\n",
       "    </tr>\n",
       "    <tr>\n",
       "      <th>160</th>\n",
       "      <td>UV1J8NN6B</td>\n",
       "      <td>funakoshi</td>\n",
       "    </tr>\n",
       "    <tr>\n",
       "      <th>161</th>\n",
       "      <td>UV37036U8</td>\n",
       "      <td>Yuna</td>\n",
       "    </tr>\n",
       "    <tr>\n",
       "      <th>162</th>\n",
       "      <td>UV92NJEJH</td>\n",
       "      <td>奥津 勝太</td>\n",
       "    </tr>\n",
       "    <tr>\n",
       "      <th>163</th>\n",
       "      <td>U0102U4A92P</td>\n",
       "      <td>畑ちとせ</td>\n",
       "    </tr>\n",
       "  </tbody>\n",
       "</table>\n",
       "<p>164 rows × 2 columns</p>\n",
       "</div>"
      ],
      "text/plain": [
       "             uid                 uname\n",
       "0      USLACKBOT              Slackbot\n",
       "1      UJKFAPBCJ                  岡村龍弥\n",
       "2      UJRAL005U                 村上 智之\n",
       "3      UJRDMQSAD  勝又健太 kenta.katsumata\n",
       "4      UKEMYD9R8            tetsuroito\n",
       "..           ...                   ...\n",
       "159    UV1GRG3UZ               Kazuhii\n",
       "160    UV1J8NN6B             funakoshi\n",
       "161    UV37036U8                  Yuna\n",
       "162    UV92NJEJH                 奥津 勝太\n",
       "163  U0102U4A92P                  畑ちとせ\n",
       "\n",
       "[164 rows x 2 columns]"
      ]
     },
     "execution_count": 21,
     "metadata": {},
     "output_type": "execute_result"
    }
   ],
   "source": [
    "user_tbl = pd.read_csv('../data/020_intermediate/users.csv')\n",
    "user_tbl"
   ]
  },
  {
   "cell_type": "code",
   "execution_count": 22,
   "metadata": {},
   "outputs": [
    {
     "data": {
      "text/html": [
       "<div>\n",
       "<style scoped>\n",
       "    .dataframe tbody tr th:only-of-type {\n",
       "        vertical-align: middle;\n",
       "    }\n",
       "\n",
       "    .dataframe tbody tr th {\n",
       "        vertical-align: top;\n",
       "    }\n",
       "\n",
       "    .dataframe thead th {\n",
       "        text-align: right;\n",
       "    }\n",
       "</style>\n",
       "<table border=\"1\" class=\"dataframe\">\n",
       "  <thead>\n",
       "    <tr style=\"text-align: right;\">\n",
       "      <th></th>\n",
       "      <th>uid</th>\n",
       "      <th>uname</th>\n",
       "    </tr>\n",
       "  </thead>\n",
       "  <tbody>\n",
       "    <tr>\n",
       "      <th>0</th>\n",
       "      <td>USLACKBOT</td>\n",
       "      <td>Slackbot</td>\n",
       "    </tr>\n",
       "  </tbody>\n",
       "</table>\n",
       "</div>"
      ],
      "text/plain": [
       "         uid     uname\n",
       "0  USLACKBOT  Slackbot"
      ]
     },
     "execution_count": 22,
     "metadata": {},
     "output_type": "execute_result"
    }
   ],
   "source": [
    "uid = 'USLACKBOT'\n",
    "target = user_tbl.query('uid == @uid')\n",
    "target"
   ]
  },
  {
   "cell_type": "code",
   "execution_count": 23,
   "metadata": {},
   "outputs": [
    {
     "data": {
      "text/plain": [
       "pandas.core.frame.DataFrame"
      ]
     },
     "execution_count": 23,
     "metadata": {},
     "output_type": "execute_result"
    }
   ],
   "source": [
    "type(target)"
   ]
  },
  {
   "cell_type": "code",
   "execution_count": 26,
   "metadata": {},
   "outputs": [
    {
     "data": {
      "text/plain": [
       "'Slackbot'"
      ]
     },
     "execution_count": 26,
     "metadata": {},
     "output_type": "execute_result"
    }
   ],
   "source": [
    "target.iloc[0]['uname']"
   ]
  },
  {
   "cell_type": "code",
   "execution_count": null,
   "metadata": {},
   "outputs": [],
   "source": []
  }
 ],
 "metadata": {
  "kernelspec": {
   "display_name": "Python 3",
   "language": "python",
   "name": "python3"
  },
  "language_info": {
   "codemirror_mode": {
    "name": "ipython",
    "version": 3
   },
   "file_extension": ".py",
   "mimetype": "text/x-python",
   "name": "python",
   "nbconvert_exporter": "python",
   "pygments_lexer": "ipython3",
   "version": "3.7.5"
  }
 },
 "nbformat": 4,
 "nbformat_minor": 4
}
